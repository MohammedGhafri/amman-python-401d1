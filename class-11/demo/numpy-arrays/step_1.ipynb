{
 "cells": [
  {
   "cell_type": "code",
   "execution_count": 2,
   "metadata": {},
   "outputs": [],
   "source": [
    "import numpy as np"
   ]
  },
  {
   "cell_type": "code",
   "execution_count": 4,
   "metadata": {},
   "outputs": [
    {
     "data": {
      "text/plain": [
       "array([[ 2.5, 21. ],\n",
       "       [ 5.1, 47. ],\n",
       "       [ 3.2, 27. ],\n",
       "       [ 8.5, 75. ],\n",
       "       [ 3.5, 30. ],\n",
       "       [ 1.5, 20. ],\n",
       "       [ 9.2, 88. ],\n",
       "       [ 5.5, 60. ],\n",
       "       [ 8.3, 81. ],\n",
       "       [ 2.7, 25. ],\n",
       "       [ 7.7, 85. ],\n",
       "       [ 5.9, 62. ],\n",
       "       [ 4.5, 41. ],\n",
       "       [ 3.3, 42. ],\n",
       "       [ 1.1, 17. ],\n",
       "       [ 8.9, 95. ],\n",
       "       [ 2.5, 30. ],\n",
       "       [ 1.9, 24. ],\n",
       "       [ 6.1, 67. ],\n",
       "       [ 7.4, 69. ],\n",
       "       [ 2.7, 30. ],\n",
       "       [ 4.8, 54. ],\n",
       "       [ 3.8, 35. ],\n",
       "       [ 6.9, 76. ],\n",
       "       [ 7.8, 86. ]])"
      ]
     },
     "execution_count": 4,
     "metadata": {},
     "output_type": "execute_result"
    }
   ],
   "source": [
    "dataset = np.genfromtxt('./student_scores.csv',delimiter=',', skip_header=True)\n",
    "dataset\n"
   ]
  },
  {
   "cell_type": "code",
   "execution_count": 5,
   "metadata": {},
   "outputs": [
    {
     "data": {
      "text/plain": [
       "array([21., 47., 27., 75., 30., 20., 88., 60., 81., 25., 85., 62., 41.,\n",
       "       42., 17., 95., 30., 24., 67., 69., 30., 54., 35., 76., 86.])"
      ]
     },
     "execution_count": 5,
     "metadata": {},
     "output_type": "execute_result"
    }
   ],
   "source": [
    "dataset[:,1]"
   ]
  },
  {
   "cell_type": "code",
   "execution_count": 7,
   "metadata": {},
   "outputs": [
    {
     "name": "stdout",
     "output_type": "stream",
     "text": [
      "51.48\n"
     ]
    }
   ],
   "source": [
    "avg_score = np.mean(dataset[:,1])\n",
    "print(avg_score)"
   ]
  },
  {
   "cell_type": "code",
   "execution_count": 40,
   "metadata": {},
   "outputs": [
    {
     "name": "stdout",
     "output_type": "stream",
     "text": [
      "[2.5 5.1 3.2 8.5 3.5 1.5 9.2 5.5 8.3 2.7 7.7 5.9 4.5 3.3 1.1 8.9 2.5 1.9\n",
      " 6.1 7.4 2.7 4.8 3.8 6.9 7.8]\n",
      "5.012\n",
      "51.48\n"
     ]
    }
   ],
   "source": [
    "hours_studied = dataset[:,0]\n",
    "print(hours_studied)\n",
    "test_scores = dataset[:,1]\n",
    "print(np.mean(hours_studied))\n",
    "print(np.mean(test_scores))\n"
   ]
  },
  {
   "cell_type": "code",
   "execution_count": 43,
   "metadata": {},
   "outputs": [
    {
     "data": {
      "text/plain": [
       "array([5.1, 8.5, 9.2, 5.5, 8.3, 7.7, 5.9, 8.9, 6.1, 7.4, 6.9, 7.8])"
      ]
     },
     "execution_count": 43,
     "metadata": {},
     "output_type": "execute_result"
    }
   ],
   "source": [
    "above_average_studiers = hours_studied > np.mean(hours_studied)\n",
    "hours_studied[above_average_studiers]"
   ]
  },
  {
   "cell_type": "code",
   "execution_count": null,
   "metadata": {},
   "outputs": [],
   "source": []
  }
 ],
 "metadata": {
  "kernelspec": {
   "display_name": "Python 3",
   "language": "python",
   "name": "python3"
  },
  "language_info": {
   "codemirror_mode": {
    "name": "ipython",
    "version": 3
   },
   "file_extension": ".py",
   "mimetype": "text/x-python",
   "name": "python",
   "nbconvert_exporter": "python",
   "pygments_lexer": "ipython3",
   "version": "3.8.5"
  }
 },
 "nbformat": 4,
 "nbformat_minor": 4
}
