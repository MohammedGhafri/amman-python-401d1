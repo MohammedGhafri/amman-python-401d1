{
 "cells": [
  {
   "cell_type": "markdown",
   "metadata": {},
   "source": [
    "# Fun with Exceptions"
   ]
  },
  {
   "cell_type": "markdown",
   "metadata": {},
   "source": [
    "Exceptions handle errors that you can't know about until running the application\n",
    "\n",
    "They are different than errors that are known about in advance"
   ]
  },
  {
   "cell_type": "code",
   "execution_count": 8,
   "metadata": {
    "tags": []
   },
   "outputs": [
    {
     "output_type": "error",
     "ename": "SyntaxError",
     "evalue": "unmatched ')' (<ipython-input-8-2d1055bcce1a>, line 2)",
     "traceback": [
      "\u001b[0;36m  File \u001b[0;32m\"<ipython-input-8-2d1055bcce1a>\"\u001b[0;36m, line \u001b[0;32m2\u001b[0m\n\u001b[0;31m    print(\"Too many parentheses\"))\u001b[0m\n\u001b[0m                                 ^\u001b[0m\n\u001b[0;31mSyntaxError\u001b[0m\u001b[0;31m:\u001b[0m unmatched ')'\n"
     ]
    }
   ],
   "source": [
    "print(\"let's do something totally wrong. See if you can spot me in the output!\")\n",
    "print(\"Too many parentheses\"))"
   ]
  },
  {
   "cell_type": "code",
   "execution_count": 9,
   "metadata": {},
   "outputs": [
    {
     "output_type": "error",
     "ename": "SyntaxError",
     "evalue": "invalid syntax (<ipython-input-9-47e4ac30efa3>, line 2)",
     "traceback": [
      "\u001b[0;36m  File \u001b[0;32m\"<ipython-input-9-47e4ac30efa3>\"\u001b[0;36m, line \u001b[0;32m2\u001b[0m\n\u001b[0;31m    print(\"Who has ever \"messed up\" quotations marks?\")\u001b[0m\n\u001b[0m                         ^\u001b[0m\n\u001b[0;31mSyntaxError\u001b[0m\u001b[0;31m:\u001b[0m invalid syntax\n"
     ]
    }
   ],
   "source": [
    "print(\"More wrongness. Do I get printed?\")\n",
    "print(\"Who has ever \"messed up\" quotations marks?\")"
   ]
  },
  {
   "cell_type": "markdown",
   "metadata": {},
   "source": [
    "Notice how both failed to execute AND didn't show the initial print.\n",
    "\n",
    "That's what happens with syntax errors.\n",
    "\n",
    "But how about logical errors that ARE syntactically correct?"
   ]
  },
  {
   "cell_type": "code",
   "execution_count": 10,
   "metadata": {
    "tags": []
   },
   "outputs": [
    {
     "output_type": "stream",
     "name": "stdout",
     "text": "What happens now? Do you see me printed?\n"
    },
    {
     "output_type": "error",
     "ename": "ZeroDivisionError",
     "evalue": "division by zero",
     "traceback": [
      "\u001b[0;31m---------------------------------------------------------------------------\u001b[0m",
      "\u001b[0;31mZeroDivisionError\u001b[0m                         Traceback (most recent call last)",
      "\u001b[0;32m<ipython-input-10-c30943fb46aa>\u001b[0m in \u001b[0;36m<module>\u001b[0;34m\u001b[0m\n\u001b[1;32m      1\u001b[0m \u001b[0mprint\u001b[0m\u001b[0;34m(\u001b[0m\u001b[0;34m\"What happens now? Do you see me printed?\"\u001b[0m\u001b[0;34m)\u001b[0m\u001b[0;34m\u001b[0m\u001b[0;34m\u001b[0m\u001b[0m\n\u001b[0;32m----> 2\u001b[0;31m \u001b[0mvalue\u001b[0m \u001b[0;34m=\u001b[0m \u001b[0;36m1\u001b[0m\u001b[0;34m/\u001b[0m\u001b[0;36m0\u001b[0m\u001b[0;34m\u001b[0m\u001b[0;34m\u001b[0m\u001b[0m\n\u001b[0m",
      "\u001b[0;31mZeroDivisionError\u001b[0m: division by zero"
     ]
    }
   ],
   "source": [
    "print(\"What happens now? Do you see me printed?\")\n",
    "value = 1/0"
   ]
  },
  {
   "cell_type": "markdown",
   "metadata": {},
   "source": [
    "Got a ZeroDivisionError at runtime\n",
    "\n",
    "Notice intial print DID display this time\n",
    "\n",
    "Check out the error\n",
    "\n",
    "Getting a descriptive error is good\n",
    "\n",
    "WAY better than getting a non-descriptive or even non-existent one\n",
    "\n",
    "So always pay attention to anything an error is telling you"
   ]
  },
  {
   "cell_type": "code",
   "execution_count": 11,
   "metadata": {
    "tags": []
   },
   "outputs": [
    {
     "output_type": "stream",
     "name": "stdout",
     "text": "Don't divide by zero silly.\nhandled the exception above, carrying on\n"
    }
   ],
   "source": [
    "# You can handle these errors in your code\n",
    "\n",
    "try:\n",
    "    print(\"Divide by zero again\", 1 / 0)\n",
    "except ZeroDivisionError:\n",
    "    print(\"Don't divide by zero silly.\")\n",
    "\n",
    "print(\"handled the exception above, carrying on\")"
   ]
  },
  {
   "cell_type": "markdown",
   "metadata": {},
   "source": [
    "Notice that we \"caught\" a specific exception.\n",
    "It is a best practice to only catch specific exceptions\n",
    "\n",
    "To put it another way\n",
    "it is a VERY BAD THING to catch generic exceptions\n",
    "Here is why that's considered an anti-pattern\n",
    "\n"
   ]
  },
  {
   "cell_type": "code",
   "execution_count": 13,
   "metadata": {
    "tags": []
   },
   "outputs": [
    {
     "output_type": "stream",
     "name": "stdout",
     "text": "Don't divide by zero silly.\nTotal lie!. The problem was not dividing by zero. It was a type error\n"
    }
   ],
   "source": [
    "try:\n",
    "    print(\"Divide by zero again\", 1 / \"spam\")\n",
    "except:\n",
    "    print(\"Don't divide by zero silly.\")\n",
    "\n",
    "print(\"Total lie!. The problem was not dividing by zero. It was a type error\")"
   ]
  },
  {
   "cell_type": "code",
   "execution_count": 12,
   "metadata": {},
   "outputs": [
    {
     "output_type": "error",
     "ename": "TypeError",
     "evalue": "unsupported operand type(s) for /: 'int' and 'str'",
     "traceback": [
      "\u001b[0;31m---------------------------------------------------------------------------\u001b[0m",
      "\u001b[0;31mTypeError\u001b[0m                                 Traceback (most recent call last)",
      "\u001b[0;32m<ipython-input-12-ec02e4bca882>\u001b[0m in \u001b[0;36m<module>\u001b[0;34m\u001b[0m\n\u001b[0;32m----> 1\u001b[0;31m \u001b[0mprint\u001b[0m\u001b[0;34m(\u001b[0m\u001b[0;36m1\u001b[0m\u001b[0;34m/\u001b[0m\u001b[0;34m'hi'\u001b[0m\u001b[0;34m)\u001b[0m\u001b[0;34m\u001b[0m\u001b[0;34m\u001b[0m\u001b[0m\n\u001b[0m",
      "\u001b[0;31mTypeError\u001b[0m: unsupported operand type(s) for /: 'int' and 'str'"
     ]
    }
   ],
   "source": [
    "print(1/'hi')"
   ]
  },
  {
   "cell_type": "code",
   "execution_count": 17,
   "metadata": {
    "tags": []
   },
   "outputs": [
    {
     "output_type": "stream",
     "name": "stdout",
     "text": "Don't divide by zero silly.\n<class 'Exception'>\nStill wrong. Handling the base Exception is a 'catch all'\n"
    }
   ],
   "source": [
    "# variation on previous step\n",
    "\n",
    "try:\n",
    "    print(\"Divide by zero again\", 1 / \"spam\")\n",
    "except Exception:\n",
    "    print(\"Don't divide by zero silly.\")\n",
    "    print(Exception)\n",
    "\n",
    "print(\"Still wrong. Handling the base Exception is a 'catch all'\")"
   ]
  },
  {
   "cell_type": "markdown",
   "metadata": {},
   "source": [
    "If you must handle every exception then make sure to retain the relevant error info.\n",
    "\n",
    "For example, you may have requirement that end user never sees a program error.\n",
    "\n",
    "In that case make sure to log/record the error details and then present something more palatable to end user"
   ]
  },
  {
   "cell_type": "code",
   "execution_count": null,
   "metadata": {},
   "outputs": [],
   "source": [
    "try:\n",
    "    spam = \"nonsense\" / 42\n",
    "except ZeroDivisionError:\n",
    "    print(\"Don't divide by zero silly.\")\n",
    "except Exception as e:  # notice we can refer to the exception using 'as'\n",
    "    # log the exception somewhere, probably including the stack trace\n",
    "    print(\"So sorry end user. Something broke!\")"
   ]
  },
  {
   "cell_type": "markdown",
   "metadata": {},
   "source": [
    "Python also allows you do a couple more things with exceptions\n",
    "\n",
    "One is an 'else' block which runs when there was NOT an exception\n",
    "This is not that commonly used but every now and then is helpful\n",
    "\n"
   ]
  },
  {
   "cell_type": "code",
   "execution_count": 16,
   "metadata": {
    "tags": []
   },
   "outputs": [
    {
     "output_type": "stream",
     "name": "stdout",
     "text": "Attempting to create message\nUnable to create message\n"
    }
   ],
   "source": [
    "print(\"Attempting to create message\")\n",
    "try:\n",
    "    message = \"nothing\" + 5 + \"here\"\n",
    "except TypeError:\n",
    "    print(\"Unable to create message\")\n",
    "else:\n",
    "    print(\"Message successfully created\")"
   ]
  },
  {
   "cell_type": "markdown",
   "metadata": {},
   "source": [
    "The last piece is the 'finally' block which is run no matter what happened"
   ]
  },
  {
   "cell_type": "code",
   "execution_count": 24,
   "metadata": {
    "tags": []
   },
   "outputs": [
    {
     "output_type": "stream",
     "name": "stdout",
     "text": "prepare for breakage\nSomething broke! Details: unsupported operand type(s) for +: 'int' and 'str'\nclean up mess as needed\n"
    },
    {
     "output_type": "execute_result",
     "data": {
      "text/plain": "['__abs__',\n '__add__',\n '__and__',\n '__bool__',\n '__ceil__',\n '__class__',\n '__delattr__',\n '__dir__',\n '__divmod__',\n '__doc__',\n '__eq__',\n '__float__',\n '__floor__',\n '__floordiv__',\n '__format__',\n '__ge__',\n '__getattribute__',\n '__getnewargs__',\n '__gt__',\n '__hash__',\n '__index__',\n '__init__',\n '__init_subclass__',\n '__int__',\n '__invert__',\n '__le__',\n '__lshift__',\n '__lt__',\n '__mod__',\n '__mul__',\n '__ne__',\n '__neg__',\n '__new__',\n '__or__',\n '__pos__',\n '__pow__',\n '__radd__',\n '__rand__',\n '__rdivmod__',\n '__reduce__',\n '__reduce_ex__',\n '__repr__',\n '__rfloordiv__',\n '__rlshift__',\n '__rmod__',\n '__rmul__',\n '__ror__',\n '__round__',\n '__rpow__',\n '__rrshift__',\n '__rshift__',\n '__rsub__',\n '__rtruediv__',\n '__rxor__',\n '__setattr__',\n '__sizeof__',\n '__str__',\n '__sub__',\n '__subclasshook__',\n '__truediv__',\n '__trunc__',\n '__xor__',\n 'as_integer_ratio',\n 'bit_length',\n 'conjugate',\n 'denominator',\n 'from_bytes',\n 'imag',\n 'numerator',\n 'real',\n 'to_bytes']"
     },
     "metadata": {},
     "execution_count": 24
    }
   ],
   "source": [
    "print(\"prepare for breakage\")\n",
    "\n",
    "try:\n",
    "    value = True + \" nonsense\"  # change to str(True) and see what happens\n",
    "except TypeError as e:\n",
    "    print(f\"Something broke! Details: {e}\")\n",
    "else:\n",
    "    print(f\"smooth sailing. value is {value}\")\n",
    "finally:\n",
    "    print(\"clean up mess as needed\")\n",
    "\n",
    "dir(True)"
   ]
  },
  {
   "cell_type": "markdown",
   "metadata": {},
   "source": [
    "you can raise exceptions intentionally as well"
   ]
  },
  {
   "cell_type": "markdown",
   "metadata": {},
   "source": [
    "If there's no better choice can use the Generic Exception"
   ]
  },
  {
   "cell_type": "markdown",
   "metadata": {},
   "source": [
    "It's a best practice to choose the most appropriate type of Error"
   ]
  },
  {
   "cell_type": "code",
   "execution_count": 25,
   "metadata": {},
   "outputs": [
    {
     "output_type": "error",
     "ename": "ValueError",
     "evalue": "Invalid age - must be greater than or equal to zero",
     "traceback": [
      "\u001b[0;31m---------------------------------------------------------------------------\u001b[0m",
      "\u001b[0;31mValueError\u001b[0m                                Traceback (most recent call last)",
      "\u001b[0;32m<ipython-input-25-68bd60ebe3db>\u001b[0m in \u001b[0;36m<module>\u001b[0;34m\u001b[0m\n\u001b[1;32m      2\u001b[0m \u001b[0;34m\u001b[0m\u001b[0m\n\u001b[1;32m      3\u001b[0m \u001b[0;32mif\u001b[0m \u001b[0mage\u001b[0m \u001b[0;34m<\u001b[0m \u001b[0;36m0\u001b[0m\u001b[0;34m:\u001b[0m\u001b[0;34m\u001b[0m\u001b[0;34m\u001b[0m\u001b[0m\n\u001b[0;32m----> 4\u001b[0;31m     \u001b[0;32mraise\u001b[0m \u001b[0mValueError\u001b[0m\u001b[0;34m(\u001b[0m\u001b[0;34m\"Invalid age - must be greater than or equal to zero\"\u001b[0m\u001b[0;34m)\u001b[0m\u001b[0;34m\u001b[0m\u001b[0;34m\u001b[0m\u001b[0m\n\u001b[0m",
      "\u001b[0;31mValueError\u001b[0m: Invalid age - must be greater than or equal to zero"
     ]
    }
   ],
   "source": [
    "age = -10\n",
    "\n",
    "if age < 0:\n",
    "    raise ValueError(\"Invalid age - must be greater than or equal to zero\")"
   ]
  },
  {
   "cell_type": "code",
   "execution_count": null,
   "metadata": {},
   "outputs": [],
   "source": [
    "raise Exception(\"Something bad happened\")"
   ]
  },
  {
   "cell_type": "markdown",
   "metadata": {},
   "source": [
    "You can also create your own Exception types.\n",
    "\n",
    "This will make more sense when we cover Classes next session\n",
    "\n",
    "but here's a sneak peek\n",
    "\n"
   ]
  },
  {
   "cell_type": "code",
   "execution_count": null,
   "metadata": {},
   "outputs": [],
   "source": []
  }
 ],
 "metadata": {
  "language_info": {
   "name": "python",
   "codemirror_mode": {
    "name": "ipython",
    "version": 3
   },
   "version": "3.8.5-final"
  },
  "orig_nbformat": 2,
  "file_extension": ".py",
  "mimetype": "text/x-python",
  "name": "python",
  "npconvert_exporter": "python",
  "pygments_lexer": "ipython3",
  "version": 3,
  "kernelspec": {
   "name": "python_defaultSpec_1597741412486",
   "display_name": "Python 3.8.5 64-bit ('3.8.5': pyenv)"
  }
 },
 "nbformat": 4,
 "nbformat_minor": 2
}